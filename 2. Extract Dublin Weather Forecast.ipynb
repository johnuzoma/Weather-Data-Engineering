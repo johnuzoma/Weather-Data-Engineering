{
 "cells": [
  {
   "cell_type": "markdown",
   "id": "dd6b388d-f1e0-49f4-bbfa-2e24300eff22",
   "metadata": {
    "microsoft": {
     "language": "python",
     "language_group": "synapse_pyspark"
    },
    "nteract": {
     "transient": {
      "deleting": false
     }
    }
   },
   "source": [
    "## <u>Notebook by John Uzoma</u>"
   ]
  },
  {
   "cell_type": "markdown",
   "id": "45d5d3f3-8ba8-4141-9615-f1d6fc3698cb",
   "metadata": {
    "nteract": {
     "transient": {
      "deleting": false
     }
    }
   },
   "source": [
    "#### Get XML data and write to bronze layer"
   ]
  },
  {
   "cell_type": "code",
   "execution_count": null,
   "id": "cae5c022-c8e4-4b21-8ac9-89e8d63477ae",
   "metadata": {
    "microsoft": {
     "language": "python",
     "language_group": "synapse_pyspark"
    }
   },
   "outputs": [],
   "source": [
    "import requests\n",
    "import ssl\n",
    "import os\n",
    "\n",
    "# Enable SSL certificate verification warnings\n",
    "ctx = ssl.create_default_context()\n",
    "ctx.check_hostname = True\n",
    "ctx.verify_mode = ssl.CERT_REQUIRED\n",
    "\n",
    "# Define the URL from which to fetch the XML data\n",
    "url = \"https://metwdb-openaccess.ichec.ie/metno-wdb2ts/locationforecast?lat=53.35014;long=-6.266155\"\n",
    "\n",
    "# Send a GET request to the URL and fetch the XML data\n",
    "response = requests.get(url, verify=True)\n",
    "xml_data = response.content\n",
    "\n",
    "# Convert bytes data to string\n",
    "xml_data = xml_data.decode('utf-8')\n",
    "\n",
    "# Convert the string to a list of tuples (each tuple contains one string)\n",
    "data = [(xml_data,)]\n",
    "\n",
    "# Define the output file path\n",
    "output_file_path = \"Files/Bronze/DublinWeatherForecast.txt\"\n",
    "\n",
    "# Create a DataFrame from the list of tuples\n",
    "df = spark.createDataFrame(data, [\"text\"])\n",
    "\n",
    "# Write the DataFrame to a text file\n",
    "df.write.mode(\"overwrite\").text(output_file_path)"
   ]
  }
 ],
 "metadata": {
  "dependencies": {
   "lakehouse": {
    "default_lakehouse": "06a9b01e-67c7-4d49-b134-528745660f6b",
    "default_lakehouse_name": "lakehouse",
    "default_lakehouse_workspace_id": "6c2dfd82-79ca-43af-b447-84d78a797dd3"
   }
  },
  "kernel_info": {
   "name": "synapse_pyspark"
  },
  "kernelspec": {
   "display_name": "Synapse PySpark",
   "language": "Python",
   "name": "synapse_pyspark"
  },
  "language_info": {
   "name": "python"
  },
  "microsoft": {
   "language": "python",
   "language_group": "synapse_pyspark",
   "ms_spell_check": {
    "ms_spell_check_language": "en"
   }
  },
  "nteract": {
   "version": "nteract-front-end@1.0.0"
  },
  "spark_compute": {
   "compute_id": "/trident/default"
  },
  "synapse_widget": {
   "state": {},
   "version": "0.1"
  },
  "widgets": {}
 },
 "nbformat": 4,
 "nbformat_minor": 5
}
